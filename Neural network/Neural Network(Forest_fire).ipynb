{
 "cells": [
  {
   "cell_type": "markdown",
   "id": "f11be9a0",
   "metadata": {},
   "source": [
    "# Neural Network(Forest_fire)"
   ]
  },
  {
   "cell_type": "markdown",
   "id": "425622e0",
   "metadata": {},
   "source": [
    "## Import libraries"
   ]
  },
  {
   "cell_type": "code",
   "execution_count": 1,
   "id": "fb4888f6",
   "metadata": {},
   "outputs": [],
   "source": [
    "#load the libraries\n",
    "import pandas as pd\n",
    "import numpy as np\n",
    "from sklearn.model_selection import train_test_split, cross_val_score\n",
    "import seaborn as sns\n",
    "from matplotlib import pyplot as plt\n",
    "%matplotlib inline\n",
    "from sklearn.decomposition import PCA\n",
    "import tensorflow as tf\n",
    "tf.debugging.set_log_device_placement(False) \n",
    "import warnings\n",
    "warnings.filterwarnings('ignore')\n",
    "\n",
    "#pip install keras\n",
    "#https://www.tensorflow.org/install/pip#windows"
   ]
  },
  {
   "cell_type": "code",
   "execution_count": 2,
   "id": "eaf2b3ad",
   "metadata": {},
   "outputs": [],
   "source": [
    "# Generating reproducible results from same code\n",
    "tf.random.set_seed(14) "
   ]
  },
  {
   "cell_type": "code",
   "execution_count": 3,
   "id": "6cf47f6b",
   "metadata": {},
   "outputs": [
    {
     "data": {
      "text/html": [
       "<div>\n",
       "<style scoped>\n",
       "    .dataframe tbody tr th:only-of-type {\n",
       "        vertical-align: middle;\n",
       "    }\n",
       "\n",
       "    .dataframe tbody tr th {\n",
       "        vertical-align: top;\n",
       "    }\n",
       "\n",
       "    .dataframe thead th {\n",
       "        text-align: right;\n",
       "    }\n",
       "</style>\n",
       "<table border=\"1\" class=\"dataframe\">\n",
       "  <thead>\n",
       "    <tr style=\"text-align: right;\">\n",
       "      <th></th>\n",
       "      <th>month</th>\n",
       "      <th>day</th>\n",
       "      <th>FFMC</th>\n",
       "      <th>DMC</th>\n",
       "      <th>DC</th>\n",
       "      <th>ISI</th>\n",
       "      <th>temp</th>\n",
       "      <th>RH</th>\n",
       "      <th>wind</th>\n",
       "      <th>rain</th>\n",
       "      <th>...</th>\n",
       "      <th>monthfeb</th>\n",
       "      <th>monthjan</th>\n",
       "      <th>monthjul</th>\n",
       "      <th>monthjun</th>\n",
       "      <th>monthmar</th>\n",
       "      <th>monthmay</th>\n",
       "      <th>monthnov</th>\n",
       "      <th>monthoct</th>\n",
       "      <th>monthsep</th>\n",
       "      <th>size_category</th>\n",
       "    </tr>\n",
       "  </thead>\n",
       "  <tbody>\n",
       "    <tr>\n",
       "      <th>0</th>\n",
       "      <td>mar</td>\n",
       "      <td>fri</td>\n",
       "      <td>86.2</td>\n",
       "      <td>26.2</td>\n",
       "      <td>94.3</td>\n",
       "      <td>5.1</td>\n",
       "      <td>8.2</td>\n",
       "      <td>51</td>\n",
       "      <td>6.7</td>\n",
       "      <td>0.0</td>\n",
       "      <td>...</td>\n",
       "      <td>0</td>\n",
       "      <td>0</td>\n",
       "      <td>0</td>\n",
       "      <td>0</td>\n",
       "      <td>1</td>\n",
       "      <td>0</td>\n",
       "      <td>0</td>\n",
       "      <td>0</td>\n",
       "      <td>0</td>\n",
       "      <td>small</td>\n",
       "    </tr>\n",
       "    <tr>\n",
       "      <th>1</th>\n",
       "      <td>oct</td>\n",
       "      <td>tue</td>\n",
       "      <td>90.6</td>\n",
       "      <td>35.4</td>\n",
       "      <td>669.1</td>\n",
       "      <td>6.7</td>\n",
       "      <td>18.0</td>\n",
       "      <td>33</td>\n",
       "      <td>0.9</td>\n",
       "      <td>0.0</td>\n",
       "      <td>...</td>\n",
       "      <td>0</td>\n",
       "      <td>0</td>\n",
       "      <td>0</td>\n",
       "      <td>0</td>\n",
       "      <td>0</td>\n",
       "      <td>0</td>\n",
       "      <td>0</td>\n",
       "      <td>1</td>\n",
       "      <td>0</td>\n",
       "      <td>small</td>\n",
       "    </tr>\n",
       "    <tr>\n",
       "      <th>2</th>\n",
       "      <td>oct</td>\n",
       "      <td>sat</td>\n",
       "      <td>90.6</td>\n",
       "      <td>43.7</td>\n",
       "      <td>686.9</td>\n",
       "      <td>6.7</td>\n",
       "      <td>14.6</td>\n",
       "      <td>33</td>\n",
       "      <td>1.3</td>\n",
       "      <td>0.0</td>\n",
       "      <td>...</td>\n",
       "      <td>0</td>\n",
       "      <td>0</td>\n",
       "      <td>0</td>\n",
       "      <td>0</td>\n",
       "      <td>0</td>\n",
       "      <td>0</td>\n",
       "      <td>0</td>\n",
       "      <td>1</td>\n",
       "      <td>0</td>\n",
       "      <td>small</td>\n",
       "    </tr>\n",
       "    <tr>\n",
       "      <th>3</th>\n",
       "      <td>mar</td>\n",
       "      <td>fri</td>\n",
       "      <td>91.7</td>\n",
       "      <td>33.3</td>\n",
       "      <td>77.5</td>\n",
       "      <td>9.0</td>\n",
       "      <td>8.3</td>\n",
       "      <td>97</td>\n",
       "      <td>4.0</td>\n",
       "      <td>0.2</td>\n",
       "      <td>...</td>\n",
       "      <td>0</td>\n",
       "      <td>0</td>\n",
       "      <td>0</td>\n",
       "      <td>0</td>\n",
       "      <td>1</td>\n",
       "      <td>0</td>\n",
       "      <td>0</td>\n",
       "      <td>0</td>\n",
       "      <td>0</td>\n",
       "      <td>small</td>\n",
       "    </tr>\n",
       "    <tr>\n",
       "      <th>4</th>\n",
       "      <td>mar</td>\n",
       "      <td>sun</td>\n",
       "      <td>89.3</td>\n",
       "      <td>51.3</td>\n",
       "      <td>102.2</td>\n",
       "      <td>9.6</td>\n",
       "      <td>11.4</td>\n",
       "      <td>99</td>\n",
       "      <td>1.8</td>\n",
       "      <td>0.0</td>\n",
       "      <td>...</td>\n",
       "      <td>0</td>\n",
       "      <td>0</td>\n",
       "      <td>0</td>\n",
       "      <td>0</td>\n",
       "      <td>1</td>\n",
       "      <td>0</td>\n",
       "      <td>0</td>\n",
       "      <td>0</td>\n",
       "      <td>0</td>\n",
       "      <td>small</td>\n",
       "    </tr>\n",
       "  </tbody>\n",
       "</table>\n",
       "<p>5 rows × 31 columns</p>\n",
       "</div>"
      ],
      "text/plain": [
       "  month  day  FFMC   DMC     DC  ISI  temp  RH  wind  rain  ...  monthfeb  \\\n",
       "0   mar  fri  86.2  26.2   94.3  5.1   8.2  51   6.7   0.0  ...         0   \n",
       "1   oct  tue  90.6  35.4  669.1  6.7  18.0  33   0.9   0.0  ...         0   \n",
       "2   oct  sat  90.6  43.7  686.9  6.7  14.6  33   1.3   0.0  ...         0   \n",
       "3   mar  fri  91.7  33.3   77.5  9.0   8.3  97   4.0   0.2  ...         0   \n",
       "4   mar  sun  89.3  51.3  102.2  9.6  11.4  99   1.8   0.0  ...         0   \n",
       "\n",
       "   monthjan  monthjul  monthjun  monthmar  monthmay  monthnov  monthoct  \\\n",
       "0         0         0         0         1         0         0         0   \n",
       "1         0         0         0         0         0         0         1   \n",
       "2         0         0         0         0         0         0         1   \n",
       "3         0         0         0         1         0         0         0   \n",
       "4         0         0         0         1         0         0         0   \n",
       "\n",
       "   monthsep  size_category  \n",
       "0         0          small  \n",
       "1         0          small  \n",
       "2         0          small  \n",
       "3         0          small  \n",
       "4         0          small  \n",
       "\n",
       "[5 rows x 31 columns]"
      ]
     },
     "execution_count": 3,
     "metadata": {},
     "output_type": "execute_result"
    }
   ],
   "source": [
    "\n",
    "forest=pd.read_csv(r\"D:\\Excelr\\assignments\\Neural network\\forestfires.csv\")\n",
    "forest.head()"
   ]
  },
  {
   "cell_type": "code",
   "execution_count": 4,
   "id": "49944981",
   "metadata": {},
   "outputs": [],
   "source": [
    "df = forest.copy() #Removing the dummies at this time\n",
    "df.drop(df.columns[11:30],axis=1,inplace = True)"
   ]
  },
  {
   "cell_type": "code",
   "execution_count": 5,
   "id": "22f5f095",
   "metadata": {},
   "outputs": [
    {
     "data": {
      "text/plain": [
       "(517, 12)"
      ]
     },
     "execution_count": 5,
     "metadata": {},
     "output_type": "execute_result"
    }
   ],
   "source": [
    "df.shape"
   ]
  },
  {
   "cell_type": "code",
   "execution_count": 6,
   "id": "a1b9330c",
   "metadata": {},
   "outputs": [
    {
     "name": "stdout",
     "output_type": "stream",
     "text": [
      "<class 'pandas.core.frame.DataFrame'>\n",
      "RangeIndex: 517 entries, 0 to 516\n",
      "Data columns (total 12 columns):\n",
      " #   Column         Non-Null Count  Dtype  \n",
      "---  ------         --------------  -----  \n",
      " 0   month          517 non-null    object \n",
      " 1   day            517 non-null    object \n",
      " 2   FFMC           517 non-null    float64\n",
      " 3   DMC            517 non-null    float64\n",
      " 4   DC             517 non-null    float64\n",
      " 5   ISI            517 non-null    float64\n",
      " 6   temp           517 non-null    float64\n",
      " 7   RH             517 non-null    int64  \n",
      " 8   wind           517 non-null    float64\n",
      " 9   rain           517 non-null    float64\n",
      " 10  area           517 non-null    float64\n",
      " 11  size_category  517 non-null    object \n",
      "dtypes: float64(8), int64(1), object(3)\n",
      "memory usage: 48.6+ KB\n"
     ]
    }
   ],
   "source": [
    "df.info()"
   ]
  },
  {
   "cell_type": "code",
   "execution_count": 7,
   "id": "8004ca25",
   "metadata": {},
   "outputs": [
    {
     "data": {
      "text/plain": [
       "Index(['month', 'day', 'FFMC', 'DMC', 'DC', 'ISI', 'temp', 'RH', 'wind',\n",
       "       'rain', 'area', 'size_category'],\n",
       "      dtype='object')"
      ]
     },
     "execution_count": 7,
     "metadata": {},
     "output_type": "execute_result"
    }
   ],
   "source": [
    "df.columns"
   ]
  },
  {
   "cell_type": "code",
   "execution_count": 8,
   "id": "96d6f780",
   "metadata": {},
   "outputs": [
    {
     "name": "stdout",
     "output_type": "stream",
     "text": [
      "<class 'pandas.core.frame.DataFrame'>\n",
      "RangeIndex: 517 entries, 0 to 516\n",
      "Data columns (total 12 columns):\n",
      " #   Column         Non-Null Count  Dtype  \n",
      "---  ------         --------------  -----  \n",
      " 0   month          517 non-null    object \n",
      " 1   day            517 non-null    object \n",
      " 2   FFMC           517 non-null    float64\n",
      " 3   DMC            517 non-null    float64\n",
      " 4   DC             517 non-null    float64\n",
      " 5   ISI            517 non-null    float64\n",
      " 6   temp           517 non-null    float64\n",
      " 7   RH             517 non-null    int64  \n",
      " 8   wind           517 non-null    float64\n",
      " 9   rain           517 non-null    float64\n",
      " 10  area           517 non-null    float64\n",
      " 11  size_category  517 non-null    object \n",
      "dtypes: float64(8), int64(1), object(3)\n",
      "memory usage: 48.6+ KB\n"
     ]
    }
   ],
   "source": [
    "df.info()"
   ]
  },
  {
   "cell_type": "code",
   "execution_count": 9,
   "id": "1396f79b",
   "metadata": {},
   "outputs": [
    {
     "data": {
      "text/plain": [
       "month            0\n",
       "day              0\n",
       "FFMC             0\n",
       "DMC              0\n",
       "DC               0\n",
       "ISI              0\n",
       "temp             0\n",
       "RH               0\n",
       "wind             0\n",
       "rain             0\n",
       "area             0\n",
       "size_category    0\n",
       "dtype: int64"
      ]
     },
     "execution_count": 9,
     "metadata": {},
     "output_type": "execute_result"
    }
   ],
   "source": [
    "df.isnull().sum()"
   ]
  },
  {
   "cell_type": "markdown",
   "id": "a4e72e63",
   "metadata": {},
   "source": [
    "# Feature Analysis"
   ]
  },
  {
   "cell_type": "code",
   "execution_count": 10,
   "id": "1596a932",
   "metadata": {},
   "outputs": [
    {
     "data": {
      "text/plain": [
       "aug    184\n",
       "sep    172\n",
       "mar     54\n",
       "jul     32\n",
       "feb     20\n",
       "jun     17\n",
       "oct     15\n",
       "apr      9\n",
       "dec      9\n",
       "jan      2\n",
       "may      2\n",
       "nov      1\n",
       "Name: month, dtype: int64"
      ]
     },
     "execution_count": 10,
     "metadata": {},
     "output_type": "execute_result"
    }
   ],
   "source": [
    "df.month.value_counts()"
   ]
  },
  {
   "cell_type": "code",
   "execution_count": 11,
   "id": "bdcf1654",
   "metadata": {},
   "outputs": [
    {
     "data": {
      "text/plain": [
       "small    378\n",
       "large    139\n",
       "Name: size_category, dtype: int64"
      ]
     },
     "execution_count": 11,
     "metadata": {},
     "output_type": "execute_result"
    }
   ],
   "source": [
    " # The dataset is biased. Lets remove the bias.\n",
    "df.size_category.value_counts() "
   ]
  },
  {
   "cell_type": "markdown",
   "id": "f7fbaf09",
   "metadata": {},
   "source": [
    "# label encoding"
   ]
  },
  {
   "cell_type": "code",
   "execution_count": 12,
   "id": "77de004b",
   "metadata": {},
   "outputs": [
    {
     "data": {
      "text/html": [
       "<div>\n",
       "<style scoped>\n",
       "    .dataframe tbody tr th:only-of-type {\n",
       "        vertical-align: middle;\n",
       "    }\n",
       "\n",
       "    .dataframe tbody tr th {\n",
       "        vertical-align: top;\n",
       "    }\n",
       "\n",
       "    .dataframe thead th {\n",
       "        text-align: right;\n",
       "    }\n",
       "</style>\n",
       "<table border=\"1\" class=\"dataframe\">\n",
       "  <thead>\n",
       "    <tr style=\"text-align: right;\">\n",
       "      <th></th>\n",
       "      <th>month</th>\n",
       "      <th>day</th>\n",
       "      <th>FFMC</th>\n",
       "      <th>DMC</th>\n",
       "      <th>DC</th>\n",
       "      <th>ISI</th>\n",
       "      <th>temp</th>\n",
       "      <th>RH</th>\n",
       "      <th>wind</th>\n",
       "      <th>rain</th>\n",
       "      <th>area</th>\n",
       "      <th>size_category</th>\n",
       "    </tr>\n",
       "  </thead>\n",
       "  <tbody>\n",
       "    <tr>\n",
       "      <th>0</th>\n",
       "      <td>7</td>\n",
       "      <td>0</td>\n",
       "      <td>86.2</td>\n",
       "      <td>26.2</td>\n",
       "      <td>94.3</td>\n",
       "      <td>5.1</td>\n",
       "      <td>8.2</td>\n",
       "      <td>51</td>\n",
       "      <td>6.7</td>\n",
       "      <td>0.0</td>\n",
       "      <td>0.0</td>\n",
       "      <td>1</td>\n",
       "    </tr>\n",
       "    <tr>\n",
       "      <th>1</th>\n",
       "      <td>10</td>\n",
       "      <td>5</td>\n",
       "      <td>90.6</td>\n",
       "      <td>35.4</td>\n",
       "      <td>669.1</td>\n",
       "      <td>6.7</td>\n",
       "      <td>18.0</td>\n",
       "      <td>33</td>\n",
       "      <td>0.9</td>\n",
       "      <td>0.0</td>\n",
       "      <td>0.0</td>\n",
       "      <td>1</td>\n",
       "    </tr>\n",
       "    <tr>\n",
       "      <th>2</th>\n",
       "      <td>10</td>\n",
       "      <td>2</td>\n",
       "      <td>90.6</td>\n",
       "      <td>43.7</td>\n",
       "      <td>686.9</td>\n",
       "      <td>6.7</td>\n",
       "      <td>14.6</td>\n",
       "      <td>33</td>\n",
       "      <td>1.3</td>\n",
       "      <td>0.0</td>\n",
       "      <td>0.0</td>\n",
       "      <td>1</td>\n",
       "    </tr>\n",
       "    <tr>\n",
       "      <th>3</th>\n",
       "      <td>7</td>\n",
       "      <td>0</td>\n",
       "      <td>91.7</td>\n",
       "      <td>33.3</td>\n",
       "      <td>77.5</td>\n",
       "      <td>9.0</td>\n",
       "      <td>8.3</td>\n",
       "      <td>97</td>\n",
       "      <td>4.0</td>\n",
       "      <td>0.2</td>\n",
       "      <td>0.0</td>\n",
       "      <td>1</td>\n",
       "    </tr>\n",
       "    <tr>\n",
       "      <th>4</th>\n",
       "      <td>7</td>\n",
       "      <td>3</td>\n",
       "      <td>89.3</td>\n",
       "      <td>51.3</td>\n",
       "      <td>102.2</td>\n",
       "      <td>9.6</td>\n",
       "      <td>11.4</td>\n",
       "      <td>99</td>\n",
       "      <td>1.8</td>\n",
       "      <td>0.0</td>\n",
       "      <td>0.0</td>\n",
       "      <td>1</td>\n",
       "    </tr>\n",
       "  </tbody>\n",
       "</table>\n",
       "</div>"
      ],
      "text/plain": [
       "   month  day  FFMC   DMC     DC  ISI  temp  RH  wind  rain  area  \\\n",
       "0      7    0  86.2  26.2   94.3  5.1   8.2  51   6.7   0.0   0.0   \n",
       "1     10    5  90.6  35.4  669.1  6.7  18.0  33   0.9   0.0   0.0   \n",
       "2     10    2  90.6  43.7  686.9  6.7  14.6  33   1.3   0.0   0.0   \n",
       "3      7    0  91.7  33.3   77.5  9.0   8.3  97   4.0   0.2   0.0   \n",
       "4      7    3  89.3  51.3  102.2  9.6  11.4  99   1.8   0.0   0.0   \n",
       "\n",
       "   size_category  \n",
       "0              1  \n",
       "1              1  \n",
       "2              1  \n",
       "3              1  \n",
       "4              1  "
      ]
     },
     "execution_count": 12,
     "metadata": {},
     "output_type": "execute_result"
    }
   ],
   "source": [
    "#We are going to perform label encoding since it is faster than dummy variables\n",
    "\n",
    "from sklearn import preprocessing\n",
    "label_encoder = preprocessing.LabelEncoder()\n",
    "df.month= label_encoder.fit_transform(df.month) \n",
    "df.day= label_encoder.fit_transform(df.day) \n",
    "df.size_category= label_encoder.fit_transform(df.size_category) \n",
    "df.head()"
   ]
  },
  {
   "cell_type": "markdown",
   "id": "f845df3a",
   "metadata": {},
   "source": [
    "# Removing Bias in the Dataset"
   ]
  },
  {
   "cell_type": "code",
   "execution_count": 13,
   "id": "bc8e93cc",
   "metadata": {},
   "outputs": [
    {
     "name": "stdout",
     "output_type": "stream",
     "text": [
      "Counter({1: 378, 0: 139})\n",
      "Counter({1: 371, 0: 371})\n"
     ]
    }
   ],
   "source": [
    "from imblearn.combine import SMOTETomek\n",
    "from collections import Counter\n",
    "\n",
    "resamp = df.copy()\n",
    "#SMOTEK TECHNIQUE\n",
    "\n",
    "#Define dataset\n",
    "a = resamp.iloc[:,:-1]\n",
    "b = resamp.iloc[:,-1]\n",
    "\n",
    "#Count before\n",
    "print(Counter(b))\n",
    "\n",
    "smt = SMOTETomek(sampling_strategy = 'auto')\n",
    "a, b = smt.fit_resample(a, b)\n",
    "\n",
    "#Count after\n",
    "print(Counter(b)) #removed bias in dataset"
   ]
  },
  {
   "cell_type": "markdown",
   "id": "001e4505",
   "metadata": {},
   "source": [
    "# Train | Split dataset"
   ]
  },
  {
   "cell_type": "code",
   "execution_count": 14,
   "id": "c798b983",
   "metadata": {},
   "outputs": [],
   "source": [
    "X = a\n",
    "Y = b\n",
    "X_train, X_test, y_train, y_test = train_test_split(X,Y, test_size = 0.3)"
   ]
  },
  {
   "cell_type": "markdown",
   "id": "8128bfa2",
   "metadata": {},
   "source": [
    "# Neural Network Modelling"
   ]
  },
  {
   "cell_type": "markdown",
   "id": "f6676f97",
   "metadata": {},
   "source": [
    "Building the Model"
   ]
  },
  {
   "cell_type": "code",
   "execution_count": 15,
   "id": "1a67600c",
   "metadata": {},
   "outputs": [],
   "source": [
    "# Create your first MLP in Keras\n",
    "import keras\n",
    "from keras.models import Sequential\n",
    "from keras.layers import Dense"
   ]
  },
  {
   "cell_type": "code",
   "execution_count": 16,
   "id": "ac1633d4",
   "metadata": {},
   "outputs": [
    {
     "name": "stdout",
     "output_type": "stream",
     "text": [
      "Epoch 1/50\n",
      "35/35 [==============================] - 1s 6ms/step - loss: 0.6973 - accuracy: 0.5072 - val_loss: 0.6917 - val_accuracy: 0.5523\n",
      "Epoch 2/50\n",
      "35/35 [==============================] - 0s 2ms/step - loss: 0.6914 - accuracy: 0.5562 - val_loss: 0.6860 - val_accuracy: 0.7151\n",
      "Epoch 3/50\n",
      "35/35 [==============================] - 0s 2ms/step - loss: 0.6770 - accuracy: 0.5620 - val_loss: 0.6653 - val_accuracy: 0.6163\n",
      "Epoch 4/50\n",
      "35/35 [==============================] - 0s 2ms/step - loss: 0.6307 - accuracy: 0.7147 - val_loss: 0.6108 - val_accuracy: 0.4826\n",
      "Epoch 5/50\n",
      "35/35 [==============================] - 0s 2ms/step - loss: 0.5317 - accuracy: 0.7752 - val_loss: 0.4364 - val_accuracy: 0.9419\n",
      "Epoch 6/50\n",
      "35/35 [==============================] - 0s 2ms/step - loss: 0.4232 - accuracy: 0.8271 - val_loss: 0.3242 - val_accuracy: 0.8663\n",
      "Epoch 7/50\n",
      "35/35 [==============================] - 0s 2ms/step - loss: 0.3044 - accuracy: 0.9251 - val_loss: 0.2273 - val_accuracy: 0.9593\n",
      "Epoch 8/50\n",
      "35/35 [==============================] - 0s 2ms/step - loss: 0.2218 - accuracy: 0.9510 - val_loss: 0.1672 - val_accuracy: 0.9942\n",
      "Epoch 9/50\n",
      "35/35 [==============================] - 0s 2ms/step - loss: 0.1625 - accuracy: 0.9654 - val_loss: 0.1245 - val_accuracy: 0.9709\n",
      "Epoch 10/50\n",
      "35/35 [==============================] - 0s 2ms/step - loss: 0.1370 - accuracy: 0.9683 - val_loss: 0.2379 - val_accuracy: 0.9302\n",
      "Epoch 11/50\n",
      "35/35 [==============================] - 0s 2ms/step - loss: 0.1529 - accuracy: 0.9481 - val_loss: 0.0779 - val_accuracy: 0.9942\n",
      "Epoch 12/50\n",
      "35/35 [==============================] - 0s 2ms/step - loss: 0.0962 - accuracy: 0.9741 - val_loss: 0.1013 - val_accuracy: 0.9477\n",
      "Epoch 13/50\n",
      "35/35 [==============================] - 0s 2ms/step - loss: 0.1499 - accuracy: 0.9337 - val_loss: 0.0691 - val_accuracy: 0.9884\n",
      "Epoch 14/50\n",
      "35/35 [==============================] - 0s 3ms/step - loss: 0.0701 - accuracy: 0.9885 - val_loss: 0.0585 - val_accuracy: 0.9942\n",
      "Epoch 15/50\n",
      "35/35 [==============================] - 0s 3ms/step - loss: 0.0695 - accuracy: 0.9798 - val_loss: 0.0556 - val_accuracy: 0.9942\n",
      "Epoch 16/50\n",
      "35/35 [==============================] - 0s 2ms/step - loss: 0.0751 - accuracy: 0.9741 - val_loss: 0.0408 - val_accuracy: 0.9884\n",
      "Epoch 17/50\n",
      "35/35 [==============================] - 0s 2ms/step - loss: 0.0517 - accuracy: 0.9914 - val_loss: 0.0394 - val_accuracy: 0.9942\n",
      "Epoch 18/50\n",
      "35/35 [==============================] - 0s 2ms/step - loss: 0.0490 - accuracy: 0.9914 - val_loss: 0.0339 - val_accuracy: 0.9884\n",
      "Epoch 19/50\n",
      "35/35 [==============================] - 0s 2ms/step - loss: 0.0491 - accuracy: 0.9827 - val_loss: 0.0332 - val_accuracy: 0.9942\n",
      "Epoch 20/50\n",
      "35/35 [==============================] - 0s 2ms/step - loss: 0.0579 - accuracy: 0.9827 - val_loss: 0.0290 - val_accuracy: 0.9942\n",
      "Epoch 21/50\n",
      "35/35 [==============================] - 0s 2ms/step - loss: 0.0446 - accuracy: 0.9856 - val_loss: 0.0281 - val_accuracy: 0.9942\n",
      "Epoch 22/50\n",
      "35/35 [==============================] - 0s 2ms/step - loss: 0.0400 - accuracy: 0.9914 - val_loss: 0.0308 - val_accuracy: 0.9942\n",
      "Epoch 23/50\n",
      "35/35 [==============================] - 0s 2ms/step - loss: 0.0583 - accuracy: 0.9798 - val_loss: 0.1295 - val_accuracy: 0.9302\n",
      "Epoch 24/50\n",
      "35/35 [==============================] - 0s 2ms/step - loss: 0.0604 - accuracy: 0.9741 - val_loss: 0.0353 - val_accuracy: 0.9942\n",
      "Epoch 25/50\n",
      "35/35 [==============================] - 0s 2ms/step - loss: 0.0636 - accuracy: 0.9827 - val_loss: 0.0296 - val_accuracy: 0.9942\n",
      "Epoch 26/50\n",
      "35/35 [==============================] - 0s 2ms/step - loss: 0.0322 - accuracy: 0.9914 - val_loss: 0.0225 - val_accuracy: 0.9942\n",
      "Epoch 27/50\n",
      "35/35 [==============================] - 0s 2ms/step - loss: 0.0323 - accuracy: 0.9942 - val_loss: 0.0208 - val_accuracy: 0.9942\n",
      "Epoch 28/50\n",
      "35/35 [==============================] - 0s 2ms/step - loss: 0.0645 - accuracy: 0.9712 - val_loss: 0.0940 - val_accuracy: 0.9651\n",
      "Epoch 29/50\n",
      "35/35 [==============================] - 0s 2ms/step - loss: 0.0377 - accuracy: 0.9856 - val_loss: 0.0198 - val_accuracy: 0.9942\n",
      "Epoch 30/50\n",
      "35/35 [==============================] - 0s 2ms/step - loss: 0.0266 - accuracy: 0.9942 - val_loss: 0.0293 - val_accuracy: 0.9942\n",
      "Epoch 31/50\n",
      "35/35 [==============================] - 0s 2ms/step - loss: 0.0256 - accuracy: 0.9942 - val_loss: 0.0454 - val_accuracy: 0.9767\n",
      "Epoch 32/50\n",
      "35/35 [==============================] - 0s 2ms/step - loss: 0.0319 - accuracy: 0.9971 - val_loss: 0.0522 - val_accuracy: 0.9767\n",
      "Epoch 33/50\n",
      "35/35 [==============================] - 0s 2ms/step - loss: 0.0412 - accuracy: 0.9827 - val_loss: 0.0178 - val_accuracy: 0.9942\n",
      "Epoch 34/50\n",
      "35/35 [==============================] - 0s 2ms/step - loss: 0.0439 - accuracy: 0.9798 - val_loss: 0.0272 - val_accuracy: 0.9942\n",
      "Epoch 35/50\n",
      "35/35 [==============================] - 0s 2ms/step - loss: 0.0501 - accuracy: 0.9769 - val_loss: 0.1311 - val_accuracy: 0.9302\n",
      "Epoch 36/50\n",
      "35/35 [==============================] - 0s 2ms/step - loss: 0.0458 - accuracy: 0.9827 - val_loss: 0.0164 - val_accuracy: 1.0000\n",
      "Epoch 37/50\n",
      "35/35 [==============================] - 0s 2ms/step - loss: 0.0629 - accuracy: 0.9798 - val_loss: 0.3772 - val_accuracy: 0.9070\n",
      "Epoch 38/50\n",
      "35/35 [==============================] - 0s 2ms/step - loss: 0.0679 - accuracy: 0.9769 - val_loss: 0.0187 - val_accuracy: 0.9942\n",
      "Epoch 39/50\n",
      "35/35 [==============================] - 0s 2ms/step - loss: 0.0346 - accuracy: 0.9885 - val_loss: 0.0172 - val_accuracy: 0.9942\n",
      "Epoch 40/50\n",
      "35/35 [==============================] - 0s 2ms/step - loss: 0.0413 - accuracy: 0.9827 - val_loss: 0.0172 - val_accuracy: 0.9942\n",
      "Epoch 41/50\n",
      "35/35 [==============================] - 0s 2ms/step - loss: 0.0348 - accuracy: 0.9798 - val_loss: 0.0196 - val_accuracy: 0.9942\n",
      "Epoch 42/50\n",
      "35/35 [==============================] - 0s 2ms/step - loss: 0.0643 - accuracy: 0.9798 - val_loss: 0.0507 - val_accuracy: 0.9709\n",
      "Epoch 43/50\n",
      "35/35 [==============================] - 0s 2ms/step - loss: 0.0556 - accuracy: 0.9798 - val_loss: 0.0633 - val_accuracy: 0.9709\n",
      "Epoch 44/50\n",
      "35/35 [==============================] - 0s 2ms/step - loss: 0.0391 - accuracy: 0.9798 - val_loss: 0.0134 - val_accuracy: 1.0000\n",
      "Epoch 45/50\n",
      "35/35 [==============================] - 0s 2ms/step - loss: 0.0714 - accuracy: 0.9856 - val_loss: 0.1327 - val_accuracy: 0.9360\n",
      "Epoch 46/50\n",
      "35/35 [==============================] - 0s 2ms/step - loss: 0.0708 - accuracy: 0.9741 - val_loss: 0.0295 - val_accuracy: 0.9884\n",
      "Epoch 47/50\n",
      "35/35 [==============================] - 0s 2ms/step - loss: 0.0323 - accuracy: 0.9914 - val_loss: 0.0147 - val_accuracy: 0.9942\n",
      "Epoch 48/50\n",
      "35/35 [==============================] - 0s 2ms/step - loss: 0.0244 - accuracy: 0.9914 - val_loss: 0.0202 - val_accuracy: 0.9942\n",
      "Epoch 49/50\n",
      "35/35 [==============================] - 0s 2ms/step - loss: 0.0240 - accuracy: 0.9914 - val_loss: 0.0333 - val_accuracy: 0.9884\n",
      "Epoch 50/50\n",
      "35/35 [==============================] - 0s 3ms/step - loss: 0.0395 - accuracy: 0.9856 - val_loss: 0.0302 - val_accuracy: 0.9884\n"
     ]
    }
   ],
   "source": [
    "# create model\n",
    "model = Sequential()\n",
    "model.add(Dense(14, input_dim=11, kernel_initializer='uniform', activation='relu'))\n",
    "model.add(Dense(12,kernel_initializer='uniform', activation='relu'))\n",
    "model.add(Dense(1, kernel_initializer='uniform', activation='sigmoid'))\n",
    "# Compile model\n",
    "model.compile(loss='binary_crossentropy', optimizer='adam', metrics=['accuracy'])\n",
    "# Fit the model\n",
    "hist = model.fit(X_train, y_train, validation_split=0.33, epochs=50, batch_size=10)"
   ]
  },
  {
   "cell_type": "markdown",
   "id": "82eaa6da",
   "metadata": {},
   "source": [
    "# Model Evaluation"
   ]
  },
  {
   "cell_type": "code",
   "execution_count": 17,
   "id": "a4e31452",
   "metadata": {},
   "outputs": [
    {
     "name": "stdout",
     "output_type": "stream",
     "text": [
      "7/7 [==============================] - 0s 1ms/step - loss: 0.0435 - accuracy: 0.9821\n"
     ]
    }
   ],
   "source": [
    "test_loss, test_acc = model.evaluate(X_test, y_test)"
   ]
  },
  {
   "cell_type": "code",
   "execution_count": 18,
   "id": "3577943e",
   "metadata": {},
   "outputs": [
    {
     "name": "stdout",
     "output_type": "stream",
     "text": [
      "dict_keys(['loss', 'accuracy', 'val_loss', 'val_accuracy'])\n"
     ]
    }
   ],
   "source": [
    "print(hist.history.keys())"
   ]
  },
  {
   "cell_type": "code",
   "execution_count": 19,
   "id": "463645a7",
   "metadata": {},
   "outputs": [
    {
     "data": {
      "text/html": [
       "<div>\n",
       "<style scoped>\n",
       "    .dataframe tbody tr th:only-of-type {\n",
       "        vertical-align: middle;\n",
       "    }\n",
       "\n",
       "    .dataframe tbody tr th {\n",
       "        vertical-align: top;\n",
       "    }\n",
       "\n",
       "    .dataframe thead th {\n",
       "        text-align: right;\n",
       "    }\n",
       "</style>\n",
       "<table border=\"1\" class=\"dataframe\">\n",
       "  <thead>\n",
       "    <tr style=\"text-align: right;\">\n",
       "      <th></th>\n",
       "      <th>loss</th>\n",
       "      <th>accuracy</th>\n",
       "      <th>val_loss</th>\n",
       "      <th>val_accuracy</th>\n",
       "      <th>epoch</th>\n",
       "    </tr>\n",
       "  </thead>\n",
       "  <tbody>\n",
       "    <tr>\n",
       "      <th>45</th>\n",
       "      <td>0.070780</td>\n",
       "      <td>0.974063</td>\n",
       "      <td>0.029512</td>\n",
       "      <td>0.988372</td>\n",
       "      <td>45</td>\n",
       "    </tr>\n",
       "    <tr>\n",
       "      <th>46</th>\n",
       "      <td>0.032305</td>\n",
       "      <td>0.991354</td>\n",
       "      <td>0.014669</td>\n",
       "      <td>0.994186</td>\n",
       "      <td>46</td>\n",
       "    </tr>\n",
       "    <tr>\n",
       "      <th>47</th>\n",
       "      <td>0.024414</td>\n",
       "      <td>0.991354</td>\n",
       "      <td>0.020205</td>\n",
       "      <td>0.994186</td>\n",
       "      <td>47</td>\n",
       "    </tr>\n",
       "    <tr>\n",
       "      <th>48</th>\n",
       "      <td>0.023971</td>\n",
       "      <td>0.991354</td>\n",
       "      <td>0.033325</td>\n",
       "      <td>0.988372</td>\n",
       "      <td>48</td>\n",
       "    </tr>\n",
       "    <tr>\n",
       "      <th>49</th>\n",
       "      <td>0.039477</td>\n",
       "      <td>0.985591</td>\n",
       "      <td>0.030234</td>\n",
       "      <td>0.988372</td>\n",
       "      <td>49</td>\n",
       "    </tr>\n",
       "  </tbody>\n",
       "</table>\n",
       "</div>"
      ],
      "text/plain": [
       "        loss  accuracy  val_loss  val_accuracy  epoch\n",
       "45  0.070780  0.974063  0.029512      0.988372     45\n",
       "46  0.032305  0.991354  0.014669      0.994186     46\n",
       "47  0.024414  0.991354  0.020205      0.994186     47\n",
       "48  0.023971  0.991354  0.033325      0.988372     48\n",
       "49  0.039477  0.985591  0.030234      0.988372     49"
      ]
     },
     "execution_count": 19,
     "metadata": {},
     "output_type": "execute_result"
    }
   ],
   "source": [
    "hist_df = pd.DataFrame(hist.history)\n",
    "hist_df[\"epoch\"]=hist.epoch\n",
    "hist_df.tail()"
   ]
  },
  {
   "cell_type": "markdown",
   "id": "a63255bb",
   "metadata": {},
   "source": [
    "# Visualize Training History"
   ]
  },
  {
   "cell_type": "code",
   "execution_count": 20,
   "id": "fc2d3779",
   "metadata": {},
   "outputs": [
    {
     "data": {
      "image/png": "[encoded data removed]",
      "text/plain": [
       "<Figure size 640x480 with 1 Axes>"
      ]
     },
     "metadata": {},
     "output_type": "display_data"
    }
   ],
   "source": [
    "# summarize history for accuracy\n",
    "plt.plot(hist.history['accuracy'])\n",
    "plt.plot(hist.history['val_accuracy'])\n",
    "plt.title('model accuracy')\n",
    "plt.ylabel('accuracy')\n",
    "plt.xlabel('epoch')\n",
    "plt.legend(['train', 'test'], loc='upper left')\n",
    "plt.show()"
   ]
  },
  {
   "cell_type": "code",
   "execution_count": 21,
   "id": "be091326",
   "metadata": {},
   "outputs": [
    {
     "data": {
      "text/plain": [
       "<matplotlib.legend.Legend at 0x1f630ea2c40>"
      ]
     },
     "execution_count": 21,
     "metadata": {},
     "output_type": "execute_result"
    },
    {
     "data": {
      "image/png": "[encoded data removed]",
      "text/plain": [
       "<Figure size 640x480 with 1 Axes>"
      ]
     },
     "metadata": {},
     "output_type": "display_data"
    }
   ],
   "source": [
    "# summarize history for loss\n",
    "plt.plot(hist.history['loss'])\n",
    "plt.plot(hist.history['val_loss'])\n",
    "plt.title('model loss')\n",
    "plt.ylabel('loss')\n",
    "plt.xlabel('epoch')\n",
    "plt.legend(['train', 'test'], loc='upper left')"
   ]
  },
  {
   "cell_type": "markdown",
   "id": "619933a7",
   "metadata": {},
   "source": [
    "## Tuning of Hyperparameters :- Batch Size and Epochs"
   ]
  },
  {
   "cell_type": "code",
   "execution_count": 22,
   "id": "e1fa04b1",
   "metadata": {},
   "outputs": [],
   "source": [
    "# Importing the necessary packages\n",
    "from sklearn.model_selection import GridSearchCV, KFold\n",
    "from keras.models import Sequential\n",
    "from keras.layers import Dense\n",
    "from keras.wrappers.scikit_learn import KerasClassifier\n",
    "from keras.optimizers import Adam"
   ]
  },
  {
   "cell_type": "code",
   "execution_count": 23,
   "id": "dbc46b13",
   "metadata": {},
   "outputs": [],
   "source": [
    "# create model\n",
    "def create_model():\n",
    "    model = Sequential()\n",
    "    model.add(Dense(12, input_dim=8, kernel_initializer='uniform', activation='relu'))\n",
    "    model.add(Dense(8, kernel_initializer='uniform', activation='relu'))\n",
    "    model.add(Dense(1, kernel_initializer='uniform', activation='sigmoid'))\n",
    "    \n",
    "    adam=Adam(lr=0.01)\n",
    "    model.compile(loss='binary_crossentropy', optimizer=adam, metrics=['accuracy'])\n",
    "    return model"
   ]
  },
  {
   "cell_type": "code",
   "execution_count": 24,
   "id": "387541b3",
   "metadata": {},
   "outputs": [],
   "source": [
    "from sklearn.preprocessing import StandardScaler\n",
    "a = StandardScaler()\n",
    "a.fit(X)\n",
    "X_standardized = a.transform(X)"
   ]
  },
  {
   "cell_type": "markdown",
   "id": "e556e4b2",
   "metadata": {},
   "source": [
    "# Tuning of Hyperparameters:- Learning rate and Drop out rate"
   ]
  },
  {
   "cell_type": "code",
   "execution_count": 25,
   "id": "4e216fb3",
   "metadata": {},
   "outputs": [
    {
     "name": "stdout",
     "output_type": "stream",
     "text": [
      "Fitting 5 folds for each of 9 candidates, totalling 45 fits\n",
      "[CV 1/5; 1/9] START dropout_rate=0.0, learning_rate=0.001.......................\n",
      "[CV 1/5; 1/9] END dropout_rate=0.0, learning_rate=0.001;, score=1.000 total time=   2.1s\n",
      "[CV 2/5; 1/9] START dropout_rate=0.0, learning_rate=0.001.......................\n",
      "[CV 2/5; 1/9] END dropout_rate=0.0, learning_rate=0.001;, score=0.980 total time=   2.1s\n",
      "[CV 3/5; 1/9] START dropout_rate=0.0, learning_rate=0.001.......................\n",
      "[CV 3/5; 1/9] END dropout_rate=0.0, learning_rate=0.001;, score=0.959 total time=   2.0s\n",
      "[CV 4/5; 1/9] START dropout_rate=0.0, learning_rate=0.001.......................\n",
      "[CV 4/5; 1/9] END dropout_rate=0.0, learning_rate=0.001;, score=0.993 total time=   2.4s\n",
      "[CV 5/5; 1/9] START dropout_rate=0.0, learning_rate=0.001.......................\n",
      "[CV 5/5; 1/9] END dropout_rate=0.0, learning_rate=0.001;, score=0.980 total time=   2.2s\n",
      "[CV 1/5; 2/9] START dropout_rate=0.0, learning_rate=0.01........................\n",
      "[CV 1/5; 2/9] END dropout_rate=0.0, learning_rate=0.01;, score=0.993 total time=   2.4s\n",
      "[CV 2/5; 2/9] START dropout_rate=0.0, learning_rate=0.01........................\n",
      "[CV 2/5; 2/9] END dropout_rate=0.0, learning_rate=0.01;, score=0.973 total time=   2.4s\n",
      "[CV 3/5; 2/9] START dropout_rate=0.0, learning_rate=0.01........................\n",
      "[CV 3/5; 2/9] END dropout_rate=0.0, learning_rate=0.01;, score=0.953 total time=   2.2s\n",
      "[CV 4/5; 2/9] START dropout_rate=0.0, learning_rate=0.01........................\n",
      "[CV 4/5; 2/9] END dropout_rate=0.0, learning_rate=0.01;, score=0.986 total time=   1.7s\n",
      "[CV 5/5; 2/9] START dropout_rate=0.0, learning_rate=0.01........................\n",
      "[CV 5/5; 2/9] END dropout_rate=0.0, learning_rate=0.01;, score=1.000 total time=   1.8s\n",
      "[CV 1/5; 3/9] START dropout_rate=0.0, learning_rate=0.1.........................\n",
      "[CV 1/5; 3/9] END dropout_rate=0.0, learning_rate=0.1;, score=0.993 total time=   2.1s\n",
      "[CV 2/5; 3/9] START dropout_rate=0.0, learning_rate=0.1.........................\n",
      "[CV 2/5; 3/9] END dropout_rate=0.0, learning_rate=0.1;, score=0.966 total time=   2.0s\n",
      "[CV 3/5; 3/9] START dropout_rate=0.0, learning_rate=0.1.........................\n",
      "[CV 3/5; 3/9] END dropout_rate=0.0, learning_rate=0.1;, score=0.912 total time=   1.9s\n",
      "[CV 4/5; 3/9] START dropout_rate=0.0, learning_rate=0.1.........................\n",
      "[CV 4/5; 3/9] END dropout_rate=0.0, learning_rate=0.1;, score=0.973 total time=   2.2s\n",
      "[CV 5/5; 3/9] START dropout_rate=0.0, learning_rate=0.1.........................\n",
      "[CV 5/5; 3/9] END dropout_rate=0.0, learning_rate=0.1;, score=0.122 total time=   2.4s\n",
      "[CV 1/5; 4/9] START dropout_rate=0.1, learning_rate=0.001.......................\n",
      "[CV 1/5; 4/9] END dropout_rate=0.1, learning_rate=0.001;, score=1.000 total time=   2.0s\n",
      "[CV 2/5; 4/9] START dropout_rate=0.1, learning_rate=0.001.......................\n",
      "[CV 2/5; 4/9] END dropout_rate=0.1, learning_rate=0.001;, score=0.987 total time=   1.9s\n",
      "[CV 3/5; 4/9] START dropout_rate=0.1, learning_rate=0.001.......................\n",
      "[CV 3/5; 4/9] END dropout_rate=0.1, learning_rate=0.001;, score=0.966 total time=   2.4s\n",
      "[CV 4/5; 4/9] START dropout_rate=0.1, learning_rate=0.001.......................\n",
      "[CV 4/5; 4/9] END dropout_rate=0.1, learning_rate=0.001;, score=0.993 total time=   2.1s\n",
      "[CV 5/5; 4/9] START dropout_rate=0.1, learning_rate=0.001.......................\n",
      "[CV 5/5; 4/9] END dropout_rate=0.1, learning_rate=0.001;, score=0.980 total time=   2.3s\n",
      "[CV 1/5; 5/9] START dropout_rate=0.1, learning_rate=0.01........................\n",
      "[CV 1/5; 5/9] END dropout_rate=0.1, learning_rate=0.01;, score=1.000 total time=   2.6s\n",
      "[CV 2/5; 5/9] START dropout_rate=0.1, learning_rate=0.01........................\n",
      "[CV 2/5; 5/9] END dropout_rate=0.1, learning_rate=0.01;, score=0.953 total time=   2.8s\n",
      "[CV 3/5; 5/9] START dropout_rate=0.1, learning_rate=0.01........................\n",
      "[CV 3/5; 5/9] END dropout_rate=0.1, learning_rate=0.01;, score=0.953 total time=   2.4s\n",
      "[CV 4/5; 5/9] START dropout_rate=0.1, learning_rate=0.01........................\n",
      "[CV 4/5; 5/9] END dropout_rate=0.1, learning_rate=0.01;, score=0.993 total time=   2.5s\n",
      "[CV 5/5; 5/9] START dropout_rate=0.1, learning_rate=0.01........................\n",
      "[CV 5/5; 5/9] END dropout_rate=0.1, learning_rate=0.01;, score=0.980 total time=   2.6s\n",
      "[CV 1/5; 6/9] START dropout_rate=0.1, learning_rate=0.1.........................\n",
      "[CV 1/5; 6/9] END dropout_rate=0.1, learning_rate=0.1;, score=0.711 total time=   2.5s\n",
      "[CV 2/5; 6/9] START dropout_rate=0.1, learning_rate=0.1.........................\n",
      "[CV 2/5; 6/9] END dropout_rate=0.1, learning_rate=0.1;, score=0.490 total time=   2.5s\n",
      "[CV 3/5; 6/9] START dropout_rate=0.1, learning_rate=0.1.........................\n",
      "[CV 3/5; 6/9] END dropout_rate=0.1, learning_rate=0.1;, score=0.899 total time=   2.6s\n",
      "[CV 4/5; 6/9] START dropout_rate=0.1, learning_rate=0.1.........................\n",
      "[CV 4/5; 6/9] END dropout_rate=0.1, learning_rate=0.1;, score=0.905 total time=   2.5s\n",
      "[CV 5/5; 6/9] START dropout_rate=0.1, learning_rate=0.1.........................\n",
      "[CV 5/5; 6/9] END dropout_rate=0.1, learning_rate=0.1;, score=0.959 total time=   2.6s\n",
      "[CV 1/5; 7/9] START dropout_rate=0.2, learning_rate=0.001.......................\n",
      "[CV 1/5; 7/9] END dropout_rate=0.2, learning_rate=0.001;, score=1.000 total time=   2.5s\n",
      "[CV 2/5; 7/9] START dropout_rate=0.2, learning_rate=0.001.......................\n",
      "[CV 2/5; 7/9] END dropout_rate=0.2, learning_rate=0.001;, score=0.980 total time=   2.0s\n",
      "[CV 3/5; 7/9] START dropout_rate=0.2, learning_rate=0.001.......................\n",
      "[CV 3/5; 7/9] END dropout_rate=0.2, learning_rate=0.001;, score=0.966 total time=   1.8s\n",
      "[CV 4/5; 7/9] START dropout_rate=0.2, learning_rate=0.001.......................\n",
      "[CV 4/5; 7/9] END dropout_rate=0.2, learning_rate=0.001;, score=1.000 total time=   2.0s\n",
      "[CV 5/5; 7/9] START dropout_rate=0.2, learning_rate=0.001.......................\n",
      "[CV 5/5; 7/9] END dropout_rate=0.2, learning_rate=0.001;, score=0.986 total time=   2.2s\n",
      "[CV 1/5; 8/9] START dropout_rate=0.2, learning_rate=0.01........................\n",
      "[CV 1/5; 8/9] END dropout_rate=0.2, learning_rate=0.01;, score=1.000 total time=   1.9s\n",
      "[CV 2/5; 8/9] START dropout_rate=0.2, learning_rate=0.01........................\n",
      "[CV 2/5; 8/9] END dropout_rate=0.2, learning_rate=0.01;, score=0.966 total time=   1.9s\n",
      "[CV 3/5; 8/9] START dropout_rate=0.2, learning_rate=0.01........................\n",
      "[CV 3/5; 8/9] END dropout_rate=0.2, learning_rate=0.01;, score=0.939 total time=   1.8s\n",
      "[CV 4/5; 8/9] START dropout_rate=0.2, learning_rate=0.01........................\n",
      "[CV 4/5; 8/9] END dropout_rate=0.2, learning_rate=0.01;, score=0.986 total time=   1.8s\n",
      "[CV 5/5; 8/9] START dropout_rate=0.2, learning_rate=0.01........................\n",
      "[CV 5/5; 8/9] END dropout_rate=0.2, learning_rate=0.01;, score=1.000 total time=   1.8s\n",
      "[CV 1/5; 9/9] START dropout_rate=0.2, learning_rate=0.1.........................\n",
      "[CV 1/5; 9/9] END dropout_rate=0.2, learning_rate=0.1;, score=0.987 total time=   1.7s\n",
      "[CV 2/5; 9/9] START dropout_rate=0.2, learning_rate=0.1.........................\n",
      "[CV 2/5; 9/9] END dropout_rate=0.2, learning_rate=0.1;, score=0.966 total time=   2.3s\n",
      "[CV 3/5; 9/9] START dropout_rate=0.2, learning_rate=0.1.........................\n",
      "[CV 3/5; 9/9] END dropout_rate=0.2, learning_rate=0.1;, score=0.919 total time=   2.3s\n",
      "[CV 4/5; 9/9] START dropout_rate=0.2, learning_rate=0.1.........................\n",
      "[CV 4/5; 9/9] END dropout_rate=0.2, learning_rate=0.1;, score=0.892 total time=   1.8s\n",
      "[CV 5/5; 9/9] START dropout_rate=0.2, learning_rate=0.1.........................\n",
      "[CV 5/5; 9/9] END dropout_rate=0.2, learning_rate=0.1;, score=0.899 total time=   2.2s\n"
     ]
    }
   ],
   "source": [
    "from keras.layers import Dropout\n",
    "\n",
    "# Defining the model\n",
    "\n",
    "def create_model2(learning_rate,dropout_rate):\n",
    "    model = Sequential()\n",
    "    model.add(Dense(14,input_dim = 11,kernel_initializer = 'uniform',activation = 'relu'))\n",
    "    model.add(Dropout(dropout_rate))\n",
    "    model.add(Dense(12,input_dim = 14,kernel_initializer = 'uniform',activation = 'relu'))\n",
    "    model.add(Dropout(dropout_rate))\n",
    "    model.add(Dense(1,kernel_initializer='uniform',activation = 'sigmoid'))\n",
    "    \n",
    "    adam = Adam(lr = learning_rate)\n",
    "    model.compile(loss = 'binary_crossentropy',optimizer = adam,metrics = ['accuracy'])\n",
    "    return model\n",
    "\n",
    "# Create the model\n",
    "\n",
    "model2 = KerasClassifier(build_fn = create_model2,verbose = 0,batch_size = 20,epochs = 50)\n",
    "\n",
    "# Define the grid search parameters\n",
    "\n",
    "learning_rate = [0.001,0.01,0.1]\n",
    "dropout_rate = [0.0,0.1,0.2]\n",
    "\n",
    "# Make a dictionary of the grid search parameters\n",
    "\n",
    "param_grids2 = dict(learning_rate = learning_rate,dropout_rate = dropout_rate)\n",
    "\n",
    "# Build and fit the GridSearchCV\n",
    "\n",
    "grid2 = GridSearchCV(estimator = model2,param_grid = param_grids2,cv = KFold(),verbose = 10)\n",
    "grid_result2 = grid2.fit(X_standardized,Y)"
   ]
  },
  {
   "cell_type": "code",
   "execution_count": 26,
   "id": "c7021823",
   "metadata": {},
   "outputs": [
    {
     "name": "stdout",
     "output_type": "stream",
     "text": [
      "Best : 0.9865136981010437, using {'dropout_rate': 0.2, 'learning_rate': 0.001}\n",
      "0.9824596405029297,0.01390782177758885 with: {'dropout_rate': 0.0, 'learning_rate': 0.001}\n",
      "0.9811264276504517,0.01675900901383626 with: {'dropout_rate': 0.0, 'learning_rate': 0.01}\n",
      "0.7932976633310318,0.336908400773933 with: {'dropout_rate': 0.0, 'learning_rate': 0.1}\n",
      "0.9851532578468323,0.011626929418200723 with: {'dropout_rate': 0.1, 'learning_rate': 0.001}\n",
      "0.9757391571998596,0.019787554161075183 with: {'dropout_rate': 0.1, 'learning_rate': 0.01}\n",
      "0.792971158027649,0.17321204274458038 with: {'dropout_rate': 0.1, 'learning_rate': 0.1}\n",
      "0.9865136981010437,0.012805813297188261 with: {'dropout_rate': 0.2, 'learning_rate': 0.001}\n",
      "0.9784237265586853,0.023147211406705 with: {'dropout_rate': 0.2, 'learning_rate': 0.01}\n",
      "0.932495903968811,0.03756552100356259 with: {'dropout_rate': 0.2, 'learning_rate': 0.1}\n"
     ]
    }
   ],
   "source": [
    "# Summarize the results\n",
    "print('Best : {}, using {}'.format(grid_result2.best_score_,grid_result2.best_params_))\n",
    "means2 = grid_result2.cv_results_['mean_test_score']\n",
    "stds2 = grid_result2.cv_results_['std_test_score']\n",
    "params2 = grid_result2.cv_results_['params']\n",
    "for mean, stdev, param in zip(means2, stds2, params2):\n",
    "  print('{},{} with: {}'.format(mean, stdev, param))\n",
    "#Best score for Dropout rate = 0.2 and learning rate is 0.001"
   ]
  },
  {
   "cell_type": "markdown",
   "id": "04801b59",
   "metadata": {},
   "source": [
    "# Tuning of Hyperparameters:- Activation Function and Kernel Initializer"
   ]
  },
  {
   "cell_type": "code",
   "execution_count": 27,
   "id": "86817757",
   "metadata": {},
   "outputs": [
    {
     "name": "stdout",
     "output_type": "stream",
     "text": [
      "Fitting 5 folds for each of 12 candidates, totalling 60 fits\n",
      "[CV 1/5; 1/12] START activation_function=softmax, init=uniform..................\n",
      "[CV 1/5; 1/12] END activation_function=softmax, init=uniform;, score=0.000 total time=   1.9s\n",
      "[CV 2/5; 1/12] START activation_function=softmax, init=uniform..................\n",
      "[CV 2/5; 1/12] END activation_function=softmax, init=uniform;, score=0.752 total time=   2.6s\n",
      "[CV 3/5; 1/12] START activation_function=softmax, init=uniform..................\n",
      "[CV 3/5; 1/12] END activation_function=softmax, init=uniform;, score=0.493 total time=   2.1s\n",
      "[CV 4/5; 1/12] START activation_function=softmax, init=uniform..................\n",
      "[CV 4/5; 1/12] END activation_function=softmax, init=uniform;, score=0.615 total time=   2.3s\n",
      "[CV 5/5; 1/12] START activation_function=softmax, init=uniform..................\n",
      "[CV 5/5; 1/12] END activation_function=softmax, init=uniform;, score=0.209 total time=   2.0s\n",
      "[CV 1/5; 2/12] START activation_function=softmax, init=normal...................\n",
      "[CV 1/5; 2/12] END activation_function=softmax, init=normal;, score=0.027 total time=   1.9s\n",
      "[CV 2/5; 2/12] START activation_function=softmax, init=normal...................\n",
      "[CV 2/5; 2/12] END activation_function=softmax, init=normal;, score=0.772 total time=   1.9s\n",
      "[CV 3/5; 2/12] START activation_function=softmax, init=normal...................\n",
      "[CV 3/5; 2/12] END activation_function=softmax, init=normal;, score=0.534 total time=   2.2s\n",
      "[CV 4/5; 2/12] START activation_function=softmax, init=normal...................\n",
      "[CV 4/5; 2/12] END activation_function=softmax, init=normal;, score=0.622 total time=   2.1s\n",
      "[CV 5/5; 2/12] START activation_function=softmax, init=normal...................\n",
      "[CV 5/5; 2/12] END activation_function=softmax, init=normal;, score=0.230 total time=   2.0s\n",
      "[CV 1/5; 3/12] START activation_function=softmax, init=zero.....................\n",
      "[CV 1/5; 3/12] END activation_function=softmax, init=zero;, score=0.000 total time=   2.3s\n",
      "[CV 2/5; 3/12] START activation_function=softmax, init=zero.....................\n",
      "[CV 2/5; 3/12] END activation_function=softmax, init=zero;, score=0.785 total time=   2.0s\n",
      "[CV 3/5; 3/12] START activation_function=softmax, init=zero.....................\n",
      "[CV 3/5; 3/12] END activation_function=softmax, init=zero;, score=0.514 total time=   2.0s\n",
      "[CV 4/5; 3/12] START activation_function=softmax, init=zero.....................\n",
      "[CV 4/5; 3/12] END activation_function=softmax, init=zero;, score=0.588 total time=   1.9s\n",
      "[CV 5/5; 3/12] START activation_function=softmax, init=zero.....................\n",
      "[CV 5/5; 3/12] END activation_function=softmax, init=zero;, score=0.162 total time=   2.0s\n",
      "[CV 1/5; 4/12] START activation_function=relu, init=uniform.....................\n",
      "[CV 1/5; 4/12] END activation_function=relu, init=uniform;, score=1.000 total time=   1.8s\n",
      "[CV 2/5; 4/12] START activation_function=relu, init=uniform.....................\n",
      "[CV 2/5; 4/12] END activation_function=relu, init=uniform;, score=0.987 total time=   1.8s\n",
      "[CV 3/5; 4/12] START activation_function=relu, init=uniform.....................\n",
      "[CV 3/5; 4/12] END activation_function=relu, init=uniform;, score=0.966 total time=   1.9s\n",
      "[CV 4/5; 4/12] START activation_function=relu, init=uniform.....................\n",
      "[CV 4/5; 4/12] END activation_function=relu, init=uniform;, score=0.986 total time=   2.3s\n",
      "[CV 5/5; 4/12] START activation_function=relu, init=uniform.....................\n",
      "[CV 5/5; 4/12] END activation_function=relu, init=uniform;, score=0.973 total time=   1.8s\n",
      "[CV 1/5; 5/12] START activation_function=relu, init=normal......................\n",
      "[CV 1/5; 5/12] END activation_function=relu, init=normal;, score=1.000 total time=   1.8s\n",
      "[CV 2/5; 5/12] START activation_function=relu, init=normal......................\n",
      "[CV 2/5; 5/12] END activation_function=relu, init=normal;, score=0.987 total time=   1.8s\n",
      "[CV 3/5; 5/12] START activation_function=relu, init=normal......................\n",
      "[CV 3/5; 5/12] END activation_function=relu, init=normal;, score=0.953 total time=   1.9s\n",
      "[CV 4/5; 5/12] START activation_function=relu, init=normal......................\n",
      "[CV 4/5; 5/12] END activation_function=relu, init=normal;, score=0.986 total time=   1.9s\n",
      "[CV 5/5; 5/12] START activation_function=relu, init=normal......................\n",
      "[CV 5/5; 5/12] END activation_function=relu, init=normal;, score=0.986 total time=   1.9s\n",
      "[CV 1/5; 6/12] START activation_function=relu, init=zero........................\n",
      "[CV 1/5; 6/12] END activation_function=relu, init=zero;, score=0.000 total time=   2.2s\n",
      "[CV 2/5; 6/12] START activation_function=relu, init=zero........................\n",
      "[CV 2/5; 6/12] END activation_function=relu, init=zero;, score=0.490 total time=   2.2s\n",
      "[CV 3/5; 6/12] START activation_function=relu, init=zero........................\n",
      "[CV 3/5; 6/12] END activation_function=relu, init=zero;, score=0.277 total time=   1.9s\n",
      "[CV 4/5; 6/12] START activation_function=relu, init=zero........................\n",
      "[CV 4/5; 6/12] END activation_function=relu, init=zero;, score=0.264 total time=   2.0s\n",
      "[CV 5/5; 6/12] START activation_function=relu, init=zero........................\n",
      "[CV 5/5; 6/12] END activation_function=relu, init=zero;, score=0.000 total time=   1.7s\n",
      "[CV 1/5; 7/12] START activation_function=tanh, init=uniform.....................\n",
      "[CV 1/5; 7/12] END activation_function=tanh, init=uniform;, score=1.000 total time=   1.8s\n",
      "[CV 2/5; 7/12] START activation_function=tanh, init=uniform.....................\n",
      "[CV 2/5; 7/12] END activation_function=tanh, init=uniform;, score=0.987 total time=   1.8s\n",
      "[CV 3/5; 7/12] START activation_function=tanh, init=uniform.....................\n",
      "[CV 3/5; 7/12] END activation_function=tanh, init=uniform;, score=0.973 total time=   1.8s\n",
      "[CV 4/5; 7/12] START activation_function=tanh, init=uniform.....................\n",
      "[CV 4/5; 7/12] END activation_function=tanh, init=uniform;, score=0.980 total time=   2.0s\n",
      "[CV 5/5; 7/12] START activation_function=tanh, init=uniform.....................\n",
      "[CV 5/5; 7/12] END activation_function=tanh, init=uniform;, score=1.000 total time=   2.2s\n",
      "[CV 1/5; 8/12] START activation_function=tanh, init=normal......................\n",
      "[CV 1/5; 8/12] END activation_function=tanh, init=normal;, score=1.000 total time=   1.9s\n",
      "[CV 2/5; 8/12] START activation_function=tanh, init=normal......................\n",
      "[CV 2/5; 8/12] END activation_function=tanh, init=normal;, score=1.000 total time=   2.3s\n",
      "[CV 3/5; 8/12] START activation_function=tanh, init=normal......................\n",
      "[CV 3/5; 8/12] END activation_function=tanh, init=normal;, score=0.973 total time=   1.8s\n",
      "[CV 4/5; 8/12] START activation_function=tanh, init=normal......................\n",
      "[CV 4/5; 8/12] END activation_function=tanh, init=normal;, score=0.986 total time=   2.2s\n",
      "[CV 5/5; 8/12] START activation_function=tanh, init=normal......................\n",
      "[CV 5/5; 8/12] END activation_function=tanh, init=normal;, score=0.986 total time=   2.7s\n",
      "[CV 1/5; 9/12] START activation_function=tanh, init=zero........................\n",
      "[CV 1/5; 9/12] END activation_function=tanh, init=zero;, score=0.000 total time=   2.3s\n",
      "[CV 2/5; 9/12] START activation_function=tanh, init=zero........................\n",
      "[CV 2/5; 9/12] END activation_function=tanh, init=zero;, score=0.490 total time=   2.8s\n",
      "[CV 3/5; 9/12] START activation_function=tanh, init=zero........................\n",
      "[CV 3/5; 9/12] END activation_function=tanh, init=zero;, score=0.277 total time=   2.9s\n",
      "[CV 4/5; 9/12] START activation_function=tanh, init=zero........................\n",
      "[CV 4/5; 9/12] END activation_function=tanh, init=zero;, score=0.264 total time=   2.1s\n",
      "[CV 5/5; 9/12] START activation_function=tanh, init=zero........................\n",
      "[CV 5/5; 9/12] END activation_function=tanh, init=zero;, score=0.000 total time=   2.0s\n",
      "[CV 1/5; 10/12] START activation_function=linear, init=uniform..................\n",
      "[CV 1/5; 10/12] END activation_function=linear, init=uniform;, score=1.000 total time=   1.9s\n",
      "[CV 2/5; 10/12] START activation_function=linear, init=uniform..................\n",
      "[CV 2/5; 10/12] END activation_function=linear, init=uniform;, score=0.987 total time=   2.1s\n",
      "[CV 3/5; 10/12] START activation_function=linear, init=uniform..................\n",
      "[CV 3/5; 10/12] END activation_function=linear, init=uniform;, score=0.973 total time=   2.4s\n",
      "[CV 4/5; 10/12] START activation_function=linear, init=uniform..................\n",
      "[CV 4/5; 10/12] END activation_function=linear, init=uniform;, score=0.980 total time=   2.1s\n",
      "[CV 5/5; 10/12] START activation_function=linear, init=uniform..................\n",
      "[CV 5/5; 10/12] END activation_function=linear, init=uniform;, score=1.000 total time=   2.0s\n",
      "[CV 1/5; 11/12] START activation_function=linear, init=normal...................\n",
      "[CV 1/5; 11/12] END activation_function=linear, init=normal;, score=1.000 total time=   1.8s\n",
      "[CV 2/5; 11/12] START activation_function=linear, init=normal...................\n",
      "[CV 2/5; 11/12] END activation_function=linear, init=normal;, score=0.987 total time=   1.9s\n",
      "[CV 3/5; 11/12] START activation_function=linear, init=normal...................\n",
      "[CV 3/5; 11/12] END activation_function=linear, init=normal;, score=0.973 total time=   2.0s\n",
      "[CV 4/5; 11/12] START activation_function=linear, init=normal...................\n",
      "[CV 4/5; 11/12] END activation_function=linear, init=normal;, score=0.993 total time=   2.1s\n",
      "[CV 5/5; 11/12] START activation_function=linear, init=normal...................\n",
      "[CV 5/5; 11/12] END activation_function=linear, init=normal;, score=1.000 total time=   2.1s\n",
      "[CV 1/5; 12/12] START activation_function=linear, init=zero.....................\n",
      "[CV 1/5; 12/12] END activation_function=linear, init=zero;, score=0.000 total time=   2.3s\n",
      "[CV 2/5; 12/12] START activation_function=linear, init=zero.....................\n",
      "[CV 2/5; 12/12] END activation_function=linear, init=zero;, score=0.490 total time=   2.0s\n",
      "[CV 3/5; 12/12] START activation_function=linear, init=zero.....................\n",
      "[CV 3/5; 12/12] END activation_function=linear, init=zero;, score=0.277 total time=   2.0s\n",
      "[CV 4/5; 12/12] START activation_function=linear, init=zero.....................\n",
      "[CV 4/5; 12/12] END activation_function=linear, init=zero;, score=0.264 total time=   2.0s\n",
      "[CV 5/5; 12/12] START activation_function=linear, init=zero.....................\n",
      "[CV 5/5; 12/12] END activation_function=linear, init=zero;, score=0.000 total time=   1.9s\n"
     ]
    }
   ],
   "source": [
    "# Defining the model\n",
    "\n",
    "def create_model3(activation_function,init):\n",
    "    model = Sequential()\n",
    "    model.add(Dense(14,input_dim = 11,kernel_initializer = init,activation = activation_function))\n",
    "    model.add(Dropout(0.2))\n",
    "    model.add(Dense(12,input_dim = 14,kernel_initializer = init,activation = activation_function))\n",
    "    model.add(Dropout(0.2))\n",
    "    model.add(Dense(1,activation = 'sigmoid'))\n",
    "    \n",
    "    adam = Adam(lr = 0.001)\n",
    "    model.compile(loss = 'binary_crossentropy',optimizer = adam,metrics = ['accuracy'])\n",
    "    return model\n",
    "\n",
    "# Create the model\n",
    "\n",
    "model3 = KerasClassifier(build_fn = create_model3,verbose = 0,batch_size = 20,epochs = 50)\n",
    "\n",
    "# Define the grid search parameters\n",
    "activation_function = ['softmax','relu','tanh','linear']\n",
    "init = ['uniform','normal','zero']\n",
    "\n",
    "# Make a dictionary of the grid search parameters\n",
    "param_grids3 = dict(activation_function = activation_function,init = init)\n",
    "\n",
    "# Build and fit the GridSearchCV\n",
    "\n",
    "grid3 = GridSearchCV(estimator = model3,param_grid = param_grids3,cv = KFold(),verbose = 10)\n",
    "grid_result3 = grid3.fit(X_standardized,Y)"
   ]
  },
  {
   "cell_type": "code",
   "execution_count": 28,
   "id": "5b908fcf",
   "metadata": {},
   "outputs": [
    {
     "name": "stdout",
     "output_type": "stream",
     "text": [
      "Best : 0.990558671951294, using {'activation_function': 'linear', 'init': 'normal'}\n",
      "0.41384909152984617,0.27345393036016163 with: {'activation_function': 'softmax', 'init': 'uniform'}\n",
      "0.43675856962800025,0.27082785915229796 with: {'activation_function': 'softmax', 'init': 'normal'}\n",
      "0.4097496807575226,0.28728587497680874 with: {'activation_function': 'softmax', 'init': 'zero'}\n",
      "0.9824505686759949,0.011787102831824384 with: {'activation_function': 'relu', 'init': 'uniform'}\n",
      "0.9824505686759949,0.015764036669998798 with: {'activation_function': 'relu', 'init': 'normal'}\n",
      "0.20609468817710877,0.18646312648397162 with: {'activation_function': 'relu', 'init': 'zero'}\n",
      "0.9878559708595276,0.010808602977254583 with: {'activation_function': 'tanh', 'init': 'uniform'}\n",
      "0.9891891956329346,0.010112581504249587 with: {'activation_function': 'tanh', 'init': 'normal'}\n",
      "0.20609468817710877,0.18646312648397162 with: {'activation_function': 'tanh', 'init': 'zero'}\n",
      "0.9878559708595276,0.010808602977254583 with: {'activation_function': 'linear', 'init': 'uniform'}\n",
      "0.990558671951294,0.01010537350885097 with: {'activation_function': 'linear', 'init': 'normal'}\n",
      "0.20609468817710877,0.18646312648397162 with: {'activation_function': 'linear', 'init': 'zero'}\n"
     ]
    }
   ],
   "source": [
    "# Summarize the results\n",
    "print('Best : {}, using {}'.format(grid_result3.best_score_,grid_result3.best_params_))\n",
    "means3 = grid_result3.cv_results_['mean_test_score']\n",
    "stds3 = grid_result3.cv_results_['std_test_score']\n",
    "params3 = grid_result3.cv_results_['params']\n",
    "for mean, stdev, param in zip(means3, stds3, params3):\n",
    "  print('{},{} with: {}'.format(mean, stdev, param))\n",
    "#best activation function in our case would be Relu and Kernel Initializer is Uniform"
   ]
  },
  {
   "cell_type": "markdown",
   "id": "384a0df1",
   "metadata": {},
   "source": [
    "# Tuning of Hyperparameter :-Number of Neurons in activation layer"
   ]
  },
  {
   "cell_type": "code",
   "execution_count": 29,
   "id": "2a1b49d4",
   "metadata": {},
   "outputs": [
    {
     "name": "stdout",
     "output_type": "stream",
     "text": [
      "Fitting 5 folds for each of 9 candidates, totalling 45 fits\n",
      "[CV 1/5; 1/9] START neuron1=4, neuron2=4........................................\n",
      "[CV 1/5; 1/9] END .........neuron1=4, neuron2=4;, score=1.000 total time=   1.8s\n",
      "[CV 2/5; 1/9] START neuron1=4, neuron2=4........................................\n",
      "[CV 2/5; 1/9] END .........neuron1=4, neuron2=4;, score=0.980 total time=   2.5s\n",
      "[CV 3/5; 1/9] START neuron1=4, neuron2=4........................................\n",
      "[CV 3/5; 1/9] END .........neuron1=4, neuron2=4;, score=0.926 total time=   1.9s\n",
      "[CV 4/5; 1/9] START neuron1=4, neuron2=4........................................\n",
      "[CV 4/5; 1/9] END .........neuron1=4, neuron2=4;, score=0.980 total time=   1.9s\n",
      "[CV 5/5; 1/9] START neuron1=4, neuron2=4........................................\n",
      "[CV 5/5; 1/9] END .........neuron1=4, neuron2=4;, score=0.932 total time=   1.9s\n",
      "[CV 1/5; 2/9] START neuron1=4, neuron2=8........................................\n",
      "[CV 1/5; 2/9] END .........neuron1=4, neuron2=8;, score=1.000 total time=   1.9s\n",
      "[CV 2/5; 2/9] START neuron1=4, neuron2=8........................................\n",
      "[CV 2/5; 2/9] END .........neuron1=4, neuron2=8;, score=0.993 total time=   2.5s\n",
      "[CV 3/5; 2/9] START neuron1=4, neuron2=8........................................\n",
      "[CV 3/5; 2/9] END .........neuron1=4, neuron2=8;, score=0.959 total time=   1.9s\n",
      "[CV 4/5; 2/9] START neuron1=4, neuron2=8........................................\n",
      "[CV 4/5; 2/9] END .........neuron1=4, neuron2=8;, score=0.986 total time=   2.0s\n",
      "[CV 5/5; 2/9] START neuron1=4, neuron2=8........................................\n",
      "[CV 5/5; 2/9] END .........neuron1=4, neuron2=8;, score=0.885 total time=   2.2s\n",
      "[CV 1/5; 3/9] START neuron1=4, neuron2=12.......................................\n",
      "[CV 1/5; 3/9] END ........neuron1=4, neuron2=12;, score=1.000 total time=   2.0s\n",
      "[CV 2/5; 3/9] START neuron1=4, neuron2=12.......................................\n",
      "[CV 2/5; 3/9] END ........neuron1=4, neuron2=12;, score=0.980 total time=   2.1s\n",
      "[CV 3/5; 3/9] START neuron1=4, neuron2=12.......................................\n",
      "[CV 3/5; 3/9] END ........neuron1=4, neuron2=12;, score=0.959 total time=   2.6s\n",
      "[CV 4/5; 3/9] START neuron1=4, neuron2=12.......................................\n",
      "[CV 4/5; 3/9] END ........neuron1=4, neuron2=12;, score=0.993 total time=   2.4s\n",
      "[CV 5/5; 3/9] START neuron1=4, neuron2=12.......................................\n",
      "[CV 5/5; 3/9] END ........neuron1=4, neuron2=12;, score=0.845 total time=   2.8s\n",
      "[CV 1/5; 4/9] START neuron1=8, neuron2=4........................................\n",
      "[CV 1/5; 4/9] END .........neuron1=8, neuron2=4;, score=1.000 total time=   3.5s\n",
      "[CV 2/5; 4/9] START neuron1=8, neuron2=4........................................\n",
      "[CV 2/5; 4/9] END .........neuron1=8, neuron2=4;, score=0.987 total time=   3.4s\n",
      "[CV 3/5; 4/9] START neuron1=8, neuron2=4........................................\n",
      "[CV 3/5; 4/9] END .........neuron1=8, neuron2=4;, score=0.939 total time=   3.0s\n",
      "[CV 4/5; 4/9] START neuron1=8, neuron2=4........................................\n",
      "[CV 4/5; 4/9] END .........neuron1=8, neuron2=4;, score=0.980 total time=   3.4s\n",
      "[CV 5/5; 4/9] START neuron1=8, neuron2=4........................................\n",
      "[CV 5/5; 4/9] END .........neuron1=8, neuron2=4;, score=0.845 total time=   3.9s\n",
      "[CV 1/5; 5/9] START neuron1=8, neuron2=8........................................\n",
      "[CV 1/5; 5/9] END .........neuron1=8, neuron2=8;, score=1.000 total time=   3.3s\n",
      "[CV 2/5; 5/9] START neuron1=8, neuron2=8........................................\n",
      "[CV 2/5; 5/9] END .........neuron1=8, neuron2=8;, score=0.993 total time=   3.2s\n",
      "[CV 3/5; 5/9] START neuron1=8, neuron2=8........................................\n",
      "[CV 3/5; 5/9] END .........neuron1=8, neuron2=8;, score=0.973 total time=   3.0s\n",
      "[CV 4/5; 5/9] START neuron1=8, neuron2=8........................................\n",
      "[CV 4/5; 5/9] END .........neuron1=8, neuron2=8;, score=1.000 total time=   2.5s\n",
      "[CV 5/5; 5/9] START neuron1=8, neuron2=8........................................\n",
      "[CV 5/5; 5/9] END .........neuron1=8, neuron2=8;, score=0.966 total time=   2.4s\n",
      "[CV 1/5; 6/9] START neuron1=8, neuron2=12.......................................\n",
      "[CV 1/5; 6/9] END ........neuron1=8, neuron2=12;, score=1.000 total time=   2.7s\n",
      "[CV 2/5; 6/9] START neuron1=8, neuron2=12.......................................\n",
      "[CV 2/5; 6/9] END ........neuron1=8, neuron2=12;, score=0.980 total time=   2.2s\n",
      "[CV 3/5; 6/9] START neuron1=8, neuron2=12.......................................\n",
      "[CV 3/5; 6/9] END ........neuron1=8, neuron2=12;, score=0.966 total time=   2.2s\n",
      "[CV 4/5; 6/9] START neuron1=8, neuron2=12.......................................\n",
      "[CV 4/5; 6/9] END ........neuron1=8, neuron2=12;, score=0.986 total time=   2.4s\n",
      "[CV 5/5; 6/9] START neuron1=8, neuron2=12.......................................\n",
      "[CV 5/5; 6/9] END ........neuron1=8, neuron2=12;, score=0.966 total time=   2.5s\n",
      "[CV 1/5; 7/9] START neuron1=14, neuron2=4.......................................\n",
      "[CV 1/5; 7/9] END ........neuron1=14, neuron2=4;, score=1.000 total time=   2.4s\n",
      "[CV 2/5; 7/9] START neuron1=14, neuron2=4.......................................\n",
      "[CV 2/5; 7/9] END ........neuron1=14, neuron2=4;, score=1.000 total time=   2.8s\n",
      "[CV 3/5; 7/9] START neuron1=14, neuron2=4.......................................\n",
      "[CV 3/5; 7/9] END ........neuron1=14, neuron2=4;, score=0.959 total time=   2.6s\n",
      "[CV 4/5; 7/9] START neuron1=14, neuron2=4.......................................\n",
      "[CV 4/5; 7/9] END ........neuron1=14, neuron2=4;, score=1.000 total time=   2.7s\n",
      "[CV 5/5; 7/9] START neuron1=14, neuron2=4.......................................\n",
      "[CV 5/5; 7/9] END ........neuron1=14, neuron2=4;, score=0.953 total time=   1.9s\n",
      "[CV 1/5; 8/9] START neuron1=14, neuron2=8.......................................\n",
      "[CV 1/5; 8/9] END ........neuron1=14, neuron2=8;, score=1.000 total time=   1.9s\n",
      "[CV 2/5; 8/9] START neuron1=14, neuron2=8.......................................\n",
      "[CV 2/5; 8/9] END ........neuron1=14, neuron2=8;, score=1.000 total time=   1.8s\n",
      "[CV 3/5; 8/9] START neuron1=14, neuron2=8.......................................\n",
      "[CV 3/5; 8/9] END ........neuron1=14, neuron2=8;, score=0.966 total time=   1.8s\n",
      "[CV 4/5; 8/9] START neuron1=14, neuron2=8.......................................\n",
      "[CV 4/5; 8/9] END ........neuron1=14, neuron2=8;, score=0.993 total time=   2.2s\n",
      "[CV 5/5; 8/9] START neuron1=14, neuron2=8.......................................\n",
      "[CV 5/5; 8/9] END ........neuron1=14, neuron2=8;, score=0.980 total time=   2.1s\n",
      "[CV 1/5; 9/9] START neuron1=14, neuron2=12......................................\n",
      "[CV 1/5; 9/9] END .......neuron1=14, neuron2=12;, score=1.000 total time=   2.0s\n",
      "[CV 2/5; 9/9] START neuron1=14, neuron2=12......................................\n",
      "[CV 2/5; 9/9] END .......neuron1=14, neuron2=12;, score=0.987 total time=   2.5s\n",
      "[CV 3/5; 9/9] START neuron1=14, neuron2=12......................................\n",
      "[CV 3/5; 9/9] END .......neuron1=14, neuron2=12;, score=0.966 total time=   2.3s\n",
      "[CV 4/5; 9/9] START neuron1=14, neuron2=12......................................\n",
      "[CV 4/5; 9/9] END .......neuron1=14, neuron2=12;, score=0.993 total time=   2.0s\n",
      "[CV 5/5; 9/9] START neuron1=14, neuron2=12......................................\n",
      "[CV 5/5; 9/9] END .......neuron1=14, neuron2=12;, score=0.966 total time=   1.8s\n"
     ]
    }
   ],
   "source": [
    "# Defining the model\n",
    "\n",
    "def create_model4(neuron1,neuron2):\n",
    "    model = Sequential()\n",
    "    model.add(Dense(neuron1,input_dim = 11,kernel_initializer = 'uniform',activation = 'relu'))\n",
    "    model.add(Dropout(0.2))\n",
    "    model.add(Dense(neuron2,input_dim = neuron1,kernel_initializer = 'uniform',activation = 'relu'))\n",
    "    model.add(Dropout(0.2))\n",
    "    model.add(Dense(1,activation = 'sigmoid'))\n",
    "    \n",
    "    adam = Adam(lr = 0.001)\n",
    "    model.compile(loss = 'binary_crossentropy',optimizer = adam,metrics = ['accuracy'])\n",
    "    return model\n",
    "\n",
    "# Create the model\n",
    "\n",
    "model4 = KerasClassifier(build_fn = create_model4,verbose = 0,batch_size = 20,epochs = 50)\n",
    "\n",
    "# Define the grid search parameters\n",
    "\n",
    "neuron1 = [4,8,14]\n",
    "neuron2 = [4,8,12]\n",
    "\n",
    "# Make a dictionary of the grid search parameters\n",
    "\n",
    "param_grids4 = dict(neuron1 = neuron1,neuron2 = neuron2)\n",
    "\n",
    "# Build and fit the GridSearchCV\n",
    "\n",
    "grid4 = GridSearchCV(estimator = model4,param_grid = param_grids4,cv = KFold(),verbose = 10)\n",
    "grid_result4 = grid4.fit(X_standardized,Y)"
   ]
  },
  {
   "cell_type": "code",
   "execution_count": 30,
   "id": "c9eb237f",
   "metadata": {},
   "outputs": [
    {
     "name": "stdout",
     "output_type": "stream",
     "text": [
      "Best : 0.9878378272056579, using {'neuron1': 14, 'neuron2': 8}\n",
      "0.9635407209396363,0.02918683845016468 with: {'neuron1': 4, 'neuron2': 4}\n",
      "0.9648739337921143,0.042180400323214795 with: {'neuron1': 4, 'neuron2': 8}\n",
      "0.9554326176643372,0.057121196067234696 with: {'neuron1': 4, 'neuron2': 12}\n",
      "0.9500181317329407,0.05647816315983726 with: {'neuron1': 8, 'neuron2': 4}\n",
      "0.9864955544471741,0.014177425538819203 with: {'neuron1': 8, 'neuron2': 8}\n",
      "0.9797569394111634,0.012820165017475129 with: {'neuron1': 8, 'neuron2': 12}\n",
      "0.9824324369430542,0.021621616929771246 with: {'neuron1': 14, 'neuron2': 4}\n",
      "0.9878378272056579,0.013101840709125814 with: {'neuron1': 14, 'neuron2': 8}\n",
      "0.9824505567550659,0.013918344261209593 with: {'neuron1': 14, 'neuron2': 12}\n"
     ]
    }
   ],
   "source": [
    "# Summarize the results\n",
    "print('Best : {}, using {}'.format(grid_result4.best_score_,grid_result4.best_params_))\n",
    "means4 = grid_result4.cv_results_['mean_test_score']\n",
    "stds4 = grid_result4.cv_results_['std_test_score']\n",
    "params4 = grid_result4.cv_results_['params']\n",
    "for mean, stdev, param in zip(means4, stds4, params4):\n",
    "  print('{},{} with: {}'.format(mean, stdev, param))\n",
    "\n",
    "#Best results are Neuron 1 = 4 and Neuron 2 = 4"
   ]
  },
  {
   "cell_type": "markdown",
   "id": "39827d3b",
   "metadata": {},
   "source": [
    "# Hyperparameters all at once"
   ]
  },
  {
   "cell_type": "markdown",
   "id": "7ff16dcb",
   "metadata": {},
   "source": [
    "###### The hyperparameter optimization was carried out by taking 2 hyperparameters at once. We may have missed the best values. The performance can be further improved by finding the optimum values of hyperparameters all at once given by the code snippet below.\n",
    "\n",
    "### This process is computationally expensive."
   ]
  },
  {
   "cell_type": "code",
   "execution_count": 31,
   "id": "210cbb61",
   "metadata": {},
   "outputs": [],
   "source": [
    "# Defining the model\n",
    "\n",
    "def create_model_fnl():\n",
    "    model = Sequential()\n",
    "    model.add(Dense(4,input_dim = 11,kernel_initializer = 'uniform',activation = 'relu'))\n",
    "    model.add(Dropout(0.2))\n",
    "    model.add(Dense(4,input_dim = 4,kernel_initializer = 'uniform',activation = 'relu'))\n",
    "    model.add(Dropout(0.2))\n",
    "    model.add(Dense(1,activation = 'sigmoid'))\n",
    "    \n",
    "    adam = Adam(lr = 0.001) #sgd = SGD(lr=learning_rate, momentum=momentum, decay=decay_rate, nesterov=False)\n",
    "    model.compile(loss = 'binary_crossentropy',optimizer = adam,metrics = ['accuracy'])\n",
    "    return model\n",
    "\n",
    "# Create the model\n",
    "model_fnl = KerasClassifier(build_fn = create_model_fnl,verbose = 0,batch_size = 20,epochs = 50)\n",
    "#Making training and Testing Data\n",
    "X_train_1, X_test_1, y_train_1, y_test_1 = train_test_split(X_standardized,Y, test_size = 0.3)\n",
    "# Fitting the model\n",
    "hist2 = model_fnl.fit(X_train_1,y_train_1)\n"
   ]
  },
  {
   "cell_type": "code",
   "execution_count": 32,
   "id": "29058c50",
   "metadata": {},
   "outputs": [
    {
     "name": "stdout",
     "output_type": "stream",
     "text": [
      "7/7 [==============================] - 0s 2ms/step\n",
      "[[110   5]\n",
      " [  0 108]]\n",
      "              precision    recall  f1-score   support\n",
      "\n",
      "           0       1.00      0.96      0.98       115\n",
      "           1       0.96      1.00      0.98       108\n",
      "\n",
      "    accuracy                           0.98       223\n",
      "   macro avg       0.98      0.98      0.98       223\n",
      "weighted avg       0.98      0.98      0.98       223\n",
      "\n"
     ]
    }
   ],
   "source": [
    "from sklearn.metrics import confusion_matrix,classification_report,plot_confusion_matrix\n",
    "def report_model(model):\n",
    "    model_preds = model.predict(X_test_1)\n",
    "    print(confusion_matrix(y_test_1,model_preds))\n",
    "    print(classification_report(y_test_1,model_preds))\n",
    "report_model(model_fnl)"
   ]
  },
  {
   "cell_type": "code",
   "execution_count": null,
   "id": "624ebec1",
   "metadata": {},
   "outputs": [],
   "source": []
  },
  {
   "cell_type": "code",
   "execution_count": null,
   "id": "6293717d",
   "metadata": {},
   "outputs": [],
   "source": []
  }
 ],
 "metadata": {
  "kernelspec": {
   "display_name": "Python 3 (ipykernel)",
   "language": "python",
   "name": "python3"
  },
  "language_info": {
   "codemirror_mode": {
    "name": "ipython",
    "version": 3
   },
   "file_extension": ".py",
   "mimetype": "text/x-python",
   "name": "python",
   "nbconvert_exporter": "python",
   "pygments_lexer": "ipython3",
   "version": "3.9.13"
  }
 },
 "nbformat": 4,
 "nbformat_minor": 5
}
